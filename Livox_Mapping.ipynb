{
  "nbformat": 4,
  "nbformat_minor": 0,
  "metadata": {
    "colab": {
      "name": "Livox_Mapping.ipynb",
      "provenance": [],
      "collapsed_sections": [],
      "mount_file_id": "1EoaTtQ7WH1vBmuEb_x6Q-bq6W1_7UoH9",
      "authorship_tag": "ABX9TyM3HHX988oeYZXm6mze7Yre",
      "include_colab_link": true
    },
    "kernelspec": {
      "name": "python3",
      "display_name": "Python 3"
    },
    "language_info": {
      "name": "python"
    },
    "accelerator": "GPU"
  },
  "cells": [
    {
      "cell_type": "markdown",
      "metadata": {
        "id": "view-in-github",
        "colab_type": "text"
      },
      "source": [
        "<a href=\"https://colab.research.google.com/github/ariaanthor/Invasive_Plant_Species_Identification/blob/main/Livox_Mapping.ipynb\" target=\"_parent\"><img src=\"https://colab.research.google.com/assets/colab-badge.svg\" alt=\"Open In Colab\"/></a>"
      ]
    },
    {
      "cell_type": "markdown",
      "source": [
        "This is an advanced implementation of the algorithm described in the following paper:\n",
        "  J. Zhang and S. Singh. LOAM: Lidar Odometry and Mapping in Real-time.\n",
        "    Robotics: Science and Systems Conference (RSS). Berkeley, CA, July 2014. \n",
        "\n",
        "Copyright 2013, Ji Zhang, Carnegie Mellon University\n",
        "Further contributions copyright (c) 2016, Southwest Research Institute\n",
        "All rights reserved."
      ],
      "metadata": {
        "id": "90OidusVVTh1"
      }
    },
    {
      "cell_type": "code",
      "metadata": {
        "id": "_Xw3qi2p2df1"
      },
      "source": [
        "%cd ~/\n",
        "!sudo sh -c 'echo \"deb http://packages.ros.org/ros/ubuntu $(lsb_release -sc) main\" > /etc/apt/sources.list.d/ros-latest.list'"
      ],
      "execution_count": null,
      "outputs": []
    },
    {
      "cell_type": "code",
      "source": [
        "!sudo apt install curl # if you haven't already installed curl\n",
        "!curl -s https://raw.githubusercontent.com/ros/rosdistro/master/ros.asc | sudo apt-key add -"
      ],
      "metadata": {
        "id": "Ext4AEv8J5kf"
      },
      "execution_count": null,
      "outputs": []
    },
    {
      "cell_type": "code",
      "source": [
        "!sudo apt update"
      ],
      "metadata": {
        "id": "vLRLbt89J_72"
      },
      "execution_count": null,
      "outputs": []
    },
    {
      "cell_type": "code",
      "source": [
        "!sudo apt install ros-melodic-desktop-full"
      ],
      "metadata": {
        "id": "JLM1u0r_KQxZ"
      },
      "execution_count": null,
      "outputs": []
    },
    {
      "cell_type": "code",
      "source": [
        "!echo \"source /opt/ros/melodic/setup.bash\" >> ~/.bashrc\n",
        "!source ~/.bashrc"
      ],
      "metadata": {
        "id": "xAJUU2N_KWWB"
      },
      "execution_count": 5,
      "outputs": []
    },
    {
      "cell_type": "code",
      "source": [
        "!sudo apt install python-rosdep python-rosinstall python-rosinstall-generator python-wstool build-essential"
      ],
      "metadata": {
        "id": "-OKBX8gdKanO"
      },
      "execution_count": null,
      "outputs": []
    },
    {
      "cell_type": "code",
      "source": [
        "!sudo apt install python-rosdep python-rosinstall python-rosinstall-generator python-wstool build-essential\n",
        "!sudo rosdep init\n",
        "!rosdep update"
      ],
      "metadata": {
        "id": "AnNqlQ2kKbqc"
      },
      "execution_count": null,
      "outputs": []
    },
    {
      "cell_type": "code",
      "source": [
        "!sudo apt-get update\n",
        "!sudo apt-get install wkhtmltopdf\n",
        "!sudo apt-get update\n",
        "!sudo apt-get install xvfb\n",
        "!alias wkhtmltopdf='xvfb-run wkhtmltopdf'"
      ],
      "metadata": {
        "id": "njl74AWODFA_"
      },
      "execution_count": null,
      "outputs": []
    },
    {
      "cell_type": "code",
      "metadata": {
        "id": "DrUAyvbChEkJ"
      },
      "source": [
        "!sudo apt install libpcl-dev\n",
        "!sudo apt install cmake\n",
        "!sudo apt install libeigen3-dev\n",
        "!git clone https://github.com/opencv/opencv.git"
      ],
      "execution_count": null,
      "outputs": []
    },
    {
      "cell_type": "markdown",
      "source": [
        "Run the following cells in terminal"
      ],
      "metadata": {
        "id": "cKaEvTGlg90w"
      }
    },
    {
      "cell_type": "code",
      "metadata": {
        "id": "_siyw8lDxeAo"
      },
      "source": [
        "cd ~\n",
        "git clone https://github.com/Livox-SDK/Livox-SDK.git\n",
        "cd Livox-SDK\n",
        "cd build && cmake ..\n",
        "make\n",
        "sudo make install"
      ],
      "execution_count": null,
      "outputs": []
    },
    {
      "cell_type": "code",
      "metadata": {
        "id": "STsgwcIix9We"
      },
      "source": [
        "git clone https://github.com/Livox-SDK/livox_ros_driver.git ws_livox/src\n",
        "cd ws_livox\n",
        "catkin_make\n",
        "source ./devel/setup.sh"
      ],
      "execution_count": null,
      "outputs": []
    },
    {
      "cell_type": "code",
      "source": [
        "#@title Broadcast to specific LiDARs here\n",
        "cd /root/Livox-SDK/build/sample && ./lidar_sample\n",
        "cd /root/Livox-SDK/build/sample/lidar && ./lidar_sample -c \"0TFDHAF00642P41\" -l"
      ],
      "metadata": {
        "id": "B9H03dBdesrj",
        "cellView": "form"
      },
      "execution_count": null,
      "outputs": []
    },
    {
      "cell_type": "code",
      "source": [
        "mkdir -p /root/Livox-SDK/build/catkin_ws/src\n",
        "cd ~/Livox-SDK/build/catkin_ws/src\n",
        "git clone https://github.com/Livox-SDK/livox_mapping.git\n",
        "cd ..\n",
        "catkin_make\n",
        "source ~/Livox-SDK/build/catkin_ws/devel/setup.bash"
      ],
      "metadata": {
        "id": "4eZLVyXBQOpi"
      },
      "execution_count": null,
      "outputs": []
    },
    {
      "cell_type": "code",
      "source": [
        "#@title Convert lvx Point Cloud Data to Rosbag file\n",
        "roslaunch livox_ros_driver lvx_to_rosbag.launch lvx_file_path:=\"/content/drive/MyDrive/LiDAR_Mapping_Project/Maps/rosbag_and_lvx_files/2021-11-15 14-40-18.lvx\""
      ],
      "metadata": {
        "id": "azrJjIBZX9b0",
        "cellView": "form"
      },
      "execution_count": null,
      "outputs": []
    },
    {
      "cell_type": "code",
      "source": [
        "#@title Connecting ROS Driver to Mid-40 Sensor\n",
        "roslaunch livox_ros_driver livox_lidar_rviz.launch bd_list:=\"0TFDHAF00642P41\""
      ],
      "metadata": {
        "id": "p-AhDNC74mRI",
        "cellView": "form"
      },
      "execution_count": null,
      "outputs": []
    },
    {
      "cell_type": "code",
      "source": [
        "#@title Live Mapping\n",
        "roslaunch livox_mapping mapping_mid.launch\n",
        "roslaunch livox_ros_driver livox_lidar.launch"
      ],
      "metadata": {
        "id": "HE9847xFQxCH",
        "cellView": "form"
      },
      "execution_count": null,
      "outputs": []
    },
    {
      "cell_type": "code",
      "source": [
        "roslaunch livox_mapping mapping_mid.launch\n",
        "rosbag play mid40_outdoor.bag"
      ],
      "metadata": {
        "id": "1Odcs8DrXvNM"
      },
      "execution_count": null,
      "outputs": []
    },
    {
      "cell_type": "code",
      "source": [
        "!ls /root/.ros/log/9a6d3184-7944-11ec-afad-0242ac1c0002/rviz-4*.log\n",
        "!roslaunch -v -ros-args"
      ],
      "metadata": {
        "id": "-UD2_35DLX5a"
      },
      "execution_count": null,
      "outputs": []
    }
  ]
}